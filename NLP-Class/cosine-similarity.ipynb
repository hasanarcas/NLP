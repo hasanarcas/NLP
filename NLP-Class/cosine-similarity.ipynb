{
 "cells": [
  {
   "cell_type": "code",
   "execution_count": 110,
   "metadata": {},
   "outputs": [
    {
     "name": "stdout",
     "output_type": "stream",
     "text": [
      "A: [  1   1   2   3   2   0 100]\n",
      "B: [  1   1   2   3   2 100  50]\n",
      "Cosine Similarity: 0.4481466844077595\n"
     ]
    }
   ],
   "source": [
    "import numpy as np\n",
    "from numpy.linalg import norm\n",
    "import pandas as pd\n",
    " \n",
    "# define two lists or array\n",
    "A = np.array([1,1,2,3,2,0,100])\n",
    "B = np.array([1,1,2,3,2,100,50])\n",
    " \n",
    "print(\"A:\", A)\n",
    "print(\"B:\", B)\n",
    " \n",
    "# compute cosine similarity\n",
    "cosine = np.dot(A,B)/(norm(A)*norm(B))\n",
    "print(\"Cosine Similarity:\", cosine)"
   ]
  },
  {
   "cell_type": "code",
   "execution_count": 117,
   "metadata": {},
   "outputs": [],
   "source": [
    "lotr1 = '''The Lord of the Rings: The Fellowship of the Ring is a 2001 epic fantasy adventure film directed by Peter Jackson from a screenplay by Fran Walsh, Philippa Boyens, and Jackson, based on 1954's The Fellowship of the Ring, the first volume of the novel The Lord of the Rings by J. R. R. Tolkien. The film is the first installment in The Lord of the Rings trilogy. It features an ensemble cast including Elijah Wood, Ian McKellen, Liv Tyler, Viggo Mortensen, Sean Astin, Cate Blanchett, John Rhys-Davies, Billy Boyd, Dominic Monaghan, Orlando Bloom, Christopher Lee, Hugo Weaving, Sean Bean, Ian Holm, and Andy Serkis. Set in Middle-earth, the story tells of the Dark Lord Sauron, who seeks the One Ring, which contains part of his might, to return to power. The Ring has found its way to the young hobbit Frodo Baggins. The fate of Middle-earth hangs in the balance as Frodo and eight companions (who form the Fellowship of the Ring) begin their journey to Mount Doom in the land of Mordor, the only place where the Ring can be destroyed.\n",
    "\n",
    "The Fellowship of the Ring was financed and distributed by American studio New Line Cinema, but filmed and edited entirely in Jackson's native New Zealand, concurrently with the other two parts of the trilogy. It premiered on 10 December 2001 at the Odeon Leicester Square in London and was theatrically released worldwide on 19 December 2001. The film was acclaimed by critics and fans alike, who considered it to be a landmark in filmmaking and an achievement in the fantasy film genre. It received praise for its visual effects, performances, Jackson's direction, screenplay, musical score, and faithfulness to the source material. It grossed $880 million worldwide in its initial release, making it the second highest-grossing film of 2001 and the fifth highest-grossing film of all time at the time of its release.[5] Following subsequent reissues, it has as of 2021 grossed over $897 million.[4]\n",
    "\n",
    "Like its successors, The Fellowship of the Ring is widely recognized as one of the greatest and most influential films ever made. The film received numerous accolades; at the 74th Academy Awards, it was nominated for thirteen awards, including Best Picture, winning for Best Cinematography, Best Makeup, Best Original Score, and Best Visual Effects.\n",
    "\n",
    "In 2007, the American Film Institute named it one of the 100 greatest American films in history, being both the most recent film and the only film released in the 21st century to make it to the list. In 2021, the film was selected for preservation in the United States National Film Registry by the Library of Congress for being \"culturally, historically, or aesthetically significant\".[6]\n",
    "\n",
    "The film was followed by The Two Towers in 2002, and by The Return of the King in 2003.\n",
    "In the Second Age of Middle-earth, the lords of Elves, Dwarves, and Men are given Rings of Power. Unbeknownst to them, the Dark Lord Sauron forges the One Ring in Mount Doom, instilling into it a great part of his power, to dominate the other Rings so he might conquer Middle-earth. A final alliance of Men and Elves battles Sauron's forces in Mordor. Isildur of Gondor severs Sauron's finger and the Ring with it, thereby vanquishing Sauron and returning him to spirit form. With Sauron's first defeat, the Third Age of Middle-earth begins. The Ring's influence corrupts Isildur, who takes it for himself and is later killed by Orcs. The Ring is lost in a river for 2,500 years until it is found by Gollum, who owns it for over four and a half centuries. The ring abandons Gollum and it is subsequently found by a hobbit named Bilbo Baggins, who is unaware of its history.\n",
    "\n",
    "Sixty years later, Bilbo celebrates his 111th birthday in the Shire, reuniting with his old friend, the wizard Gandalf the Grey. Bilbo departs the Shire for one last adventure, and he leaves his inheritance, including the Ring, to his nephew Frodo. Gandalf investigates the Ring, discovers its true nature, and learns that Gollum was captured and tortured by Sauron's Orcs, revealing two words during his interrogation: \"Shire\" and \"Baggins.\" Gandalf returns and warns Frodo to leave the Shire. As Frodo departs with his friend, gardener Samwise Gamgee, Gandalf rides to Isengard to meet with the wizard Saruman, but discovers his alliance with Sauron, who has dispatched his nine undead Nazgûl servants to find Frodo.\n",
    "\n",
    "Frodo and Sam are joined by fellow hobbits Merry and Pippin, and they evade the Nazgûl before arriving in Bree, where they are meant to meet Gandalf. However, Gandalf never arrives, having been taken prisoner by Saruman. The hobbits are then aided by a Ranger named Strider, who promises to escort them to Rivendell; however, they are ambushed by the Nazgûl on Weathertop, and their leader, the Witch-King, stabs Frodo with a Morgul blade. Arwen, an Elf and Strider's beloved, locates Strider and rescues Frodo, summoning flood-waters that sweep the Nazgûl away. She takes him to Rivendell, where he is healed by the Elves. Frodo meets with Gandalf, who escaped Isengard on a Great Eagle. That night, Strider reunites with Arwen, and they affirm their love for each other.\n",
    "\n",
    "Facing the threat of both Sauron and Saruman, Arwen's father, Lord Elrond, decides against keeping the Ring in Rivendell. He holds a council of Elves, Men, and Dwarves, also attended by Frodo and Gandalf, that decides the Ring must be destroyed in the fires of Mount Doom. Frodo volunteers to take the Ring, accompanied by Gandalf, Sam, Merry, Pippin, Elf Legolas, Dwarf Gimli, Boromir of Gondor, and Strider—who is actually Aragorn, Isildur's heir and the rightful King of Gondor. Bilbo, now living in Rivendell, gives Frodo his sword Sting, and a chainmail shirt made of mithril.\n",
    "\n",
    "The Fellowship of the Ring makes for the Gap of Rohan, but discover it is being watched by Saruman's spies. They instead set off over the mountain pass of Caradhras, but Saruman summons a storm that forces them to travel through the Mines of Moria. After finding the Dwarves of Moria dead, the Fellowship is attacked by Orcs and a cave troll. They hold them off but are confronted by Durin's Bane: a Balrog residing within the mines. While the others escape, Gandalf fends off the Balrog and casts it into a vast chasm, but the Balrog drags Gandalf down into the darkness with him. The devastated Fellowship reaches Lothlórien, ruled by the Elf-queen Galadriel, who privately informs Frodo that only he can complete the quest and that one of his friends in the Fellowship will try to take the Ring. Meanwhile, Saruman creates an army of Uruk-hai in Isengard to find and kill the Fellowship.\n",
    "\n",
    "The Fellowship travels by river to Parth Galen. Frodo wanders off and is confronted by Boromir, who tries to take the Ring as Lady Galadriel had predicted. Uruk-hai scouts then ambush the Fellowship; their leader, Lurtz, mortally wounds Boromir as he fails to stop them from taking Merry and Pippin as prisoners. Aragorn arrives and kills Lurtz before comforting Boromir as he dies, promising to help the people of Gondor in the coming conflict. Fearing the Ring will corrupt his friends, Frodo decides to travel to Mordor alone, but allows Sam to come along, recalling his promise to Gandalf to look after him. As Aragorn, Legolas, and Gimli set out to rescue Merry and Pippin, Frodo and Sam make their way down the mountain pass of Emyn Muil, journeying on to Mordor'''\n",
    "\n",
    "lotr2 = '''The Lord of the Rings: The Two Towers is a 2002 epic fantasy adventure film directed by Peter Jackson from a screenplay by Fran Walsh, Philippa Boyens, Stephen Sinclair, and Jackson, based on 1954's The Two Towers, the second volume of the novel The Lord of the Rings by J. R. R. Tolkien. The sequel to 2001's The Lord of the Rings: The Fellowship of the Ring, the film is the second instalment in The Lord of the Rings trilogy. It features an ensemble cast including Elijah Wood, Ian McKellen, Liv Tyler, Viggo Mortensen, Sean Astin, Cate Blanchett, John Rhys-Davies, Bernard Hill, Christopher Lee, Billy Boyd, Dominic Monaghan, Orlando Bloom, Hugo Weaving, Miranda Otto, David Wenham, Brad Dourif, Karl Urban, and Andy Serkis.\n",
    "\n",
    "Continuing the plot of the previous film, it intercuts three storylines. Frodo and Sam continue their journey towards Mordor to destroy the One Ring, meeting and joined by Gollum, the ring's former keeper. Aragorn, Legolas, and Gimli come to the war-torn nation of Rohan and are reunited with the resurrected Gandalf, before fighting against the legions of the treacherous wizard Saruman at the Battle of Helm's Deep. Merry and Pippin escape capture, meet Treebeard the Ent, and help to plan an attack on Isengard, fortress of Saruman.\n",
    "\n",
    "The Two Towers was financed and distributed by American studio New Line Cinema, but filmed and edited entirely in Jackson's native New Zealand, concurrently with the other two parts of the trilogy. It premiered on 5 December 2002 at the Ziegfeld Theatre in New York City and was theatrically released on 18 December 2002 in the United States, and on 19 December 2002 in New Zealand. The film was acclaimed by both critics and audiences, who considered it to be a landmark in filmmaking and an achievement in the fantasy film genre. It received praise for its direction, action sequences, performances, musical score, and CGI, particularly for Gollum. It grossed $936 million worldwide, making it the highest-grossing film of 2002 and the third highest-grossing film of all time at the time of its release, behind Titanic and Harry Potter and the Philosopher's Stone.[4] Following subsequent reissues, it has, as of 2021, grossed over $947 million.\n",
    "\n",
    "Like the other films in the trilogy, The Two Towers is widely recognized as one of the greatest and most influential films ever made. The film received numerous accolades; at the 75th Academy Awards, it was nominated for six awards, including Best Picture, winning for Best Sound Editing and Best Visual Effects. The final instalment of the trilogy, The Return of the King, was released in December 2003.\n",
    "Awakening from a dream of Gandalf fighting the Balrog in Moria, Frodo Baggins finds himself, along with Samwise Gamgee, lost in the Emyn Muil near Mordor. They discover that they are being tracked by Gollum, a former bearer of the One Ring. Capturing Gollum, Frodo takes pity and allows him to guide them, reminding Sam that they will need Gollum's help to infiltrate Mordor.\n",
    "\n",
    "Aragorn, Legolas, and Gimli pursue a band of Uruk-hai to save their companions Merry and Pippin, entering the kingdom of Rohan. The Uruk-hai are ambushed by a group of Rohirrim, allowing the Hobbits to escape into Fangorn Forest. Meeting Aragorn's group, the Rohirrim's leader Éomer explains that he and his men have been exiled by Rohan's king, Théoden, who is under the control of Saruman and his servant Gríma Wormtongue. Éomer believes Merry and Pippin were killed during the raid but leaves the group two horses. Searching for the Hobbits in Fangorn, Aragorn's group encounters Gandalf, who after his fight against the Balrog was resurrected as Gandalf the White to help save Middle-earth.\n",
    "\n",
    "Gandalf leads the trio to Rohan's capital, Edoras, where Gandalf frees Théoden from Saruman's control. Aragorn stops Théoden from executing Wormtongue, who flees. Learning of Saruman's plans to destroy Rohan with his Uruk-hai army, Théoden evacuates his citizens to the fortress of The Hornburg at Helm's Deep. Gandalf departs to find Éomer and his followers, hoping they will fight for their restored king. Aragorn befriends Théoden's niece, Éowyn, who becomes infatuated with him. When the refugees travelling to Helm's Deep are attacked by Saruman's Warg-riding Orcs, Aragorn falls from a cliff and is presumed dead. He is found by his horse Brego and rides to Helm's Deep, witnessing Saruman's army marching to the fortress.\n",
    "\n",
    "In Rivendell, Arwen is told by her father Elrond that Aragorn will not return. He reminds her that if she remains in Middle-earth, she will outlive Aragorn by thousands of years, and she reluctantly departs for Valinor. Elrond is contacted by Galadriel of Lothlórien, who convinces him that the Elves should honour their alliance to men, and they dispatch an army of Elves to Helm's Deep.\n",
    "\n",
    "In Fangorn, Merry and Pippin meet Treebeard, an Ent. Convincing Treebeard that they are allies, they are brought to an Ent Council, where the Ents decide not to take part in the coming war. Pippin asks Treebeard to take them in the direction of Isengard, where they witness the deforestation caused by Saruman's war effort. Enraged, Treebeard and the Ents storm Isengard, trapping Saruman in his tower.\n",
    "\n",
    "Aragorn arrives at Helm's Deep, bringing word that Saruman's army is close and Théoden must prepare for battle despite being vastly outnumbered. The army of Elves from Lothlórien arrives, as does Saruman's army, and a battle ensues. The Uruk-hai breach the outer wall with explosives and during the ensuing charge kill the Elves' commander, Haldir. The defenders retreat into the keep, where Aragorn convinces Théoden to meet the Uruk-hai in one last charge. At dawn, as the defenders are overwhelmed, Gandalf and Éomer arrive with the Rohirrim, turning the tide of the battle. The surviving Uruk-hai flee into Fangorn Forest and are killed by the Ents. Gandalf warns that Sauron will retaliate.\n",
    "\n",
    "Gollum leads Frodo and Sam through the Dead Marshes to the Black Gate, but recommends they enter Mordor by another route. Frodo and Sam are captured by Rangers of Ithilien led by Faramir, younger brother of the late Boromir. Frodo helps Faramir catch Gollum to save him from being killed by the Rangers. Learning of the One Ring, Faramir takes his captives to Gondor to bring the ring to his father Denethor. Passing through the besieged city of Osgiliath, Frodo tries to explain to Faramir the true nature of the ring, and Sam explains that Boromir was driven mad by its power. A Nazgûl nearly captures Frodo, who falls under the ring's power, but Sam saves him and reminds him that they are fighting for the good still left in Middle-earth. Impressed by Frodo's resolve, Faramir releases them. Gollum decides he will betray Frodo and reclaim the Ring by leading the group to \"Her\" upon arriving at Cirith Ungol.'''\n",
    "\n",
    "hobbit = '''The Hobbit: An Unexpected Journey is a 2012 epic high fantasy adventure film directed by Peter Jackson from a screenplay by Fran Walsh, Philippa Boyens, Jackson, and Guillermo del Toro, based on the 1937 novel The Hobbit by J. R. R. Tolkien. It is the first instalment in The Hobbit trilogy, acting as a prequel to Jackson's The Lord of the Rings trilogy.\n",
    "\n",
    "The story is set in Middle-earth sixty years before the main events of The Lord of the Rings and portions of the film are adapted from the appendices to Tolkien's The Return of the King.[7] An Unexpected Journey tells the tale of Bilbo Baggins (Martin Freeman), who is convinced by the wizard Gandalf (Ian McKellen) to accompany thirteen Dwarves, led by Thorin Oakenshield (Richard Armitage), on a quest to reclaim the Lonely Mountain from the dragon Smaug. The ensemble cast also includes Ken Stott, Cate Blanchett, Ian Holm, Christopher Lee, Hugo Weaving, James Nesbitt, Elijah Wood, and Andy Serkis, and features Sylvester McCoy, Barry Humphries, and Manu Bennett.\n",
    "\n",
    "An Unexpected Journey premiered in Wellington on 28 November 2012, and was then released on 12 December 2012 in New Zealand and on 14 December 2012 in the United States, by Warner Bros. Pictures. It was almost nine years after the release of The Lord of the Rings: The Return of the King.[8] The film received mixed reviews from critics and grossed over $1.017 billion at the box office, making it the fourth highest-grossing film of 2012. The film received numerous accolades; at the 86th Academy Awards, it was nominated for Best Production Design, Best Makeup and Hairstyling, and Best Visual Effects.[9] Two sequels, The Desolation of Smaug and The Battle of the Five Armies, followed in 2013 and 2014 respectively.\n",
    "Approaching his 111th birthday, the Hobbit Bilbo Baggins begins writing down the full story of his adventure 60 years earlier for the benefit of his nephew, Frodo.\n",
    "\n",
    "Long before Bilbo's involvement, the Dwarf king Thrór brought an era of prosperity for his kin under the Lonely Mountain until the arrival of the dragon Smaug. Destroying the nearby town of Dale, Smaug drove the Dwarves out of their mountain and took their hoard of gold. Thrór's grandson, Thorin, sees King Thranduil and his Wood-elves on a nearby hillside, and is dismayed when they leave rather than aid his people, resulting in Thorin's everlasting hatred of Elves.\n",
    "\n",
    "In the Shire, 50-year-old Bilbo is tricked by the wizard Gandalf the Grey into hosting a dinner for Thorin and his company of Dwarves: Balin, Dwalin, Fíli, Kíli, Dori, Nori, Ori, Óin, Glóin, Bifur, Bofur, and Bombur. Gandalf's aim is to recruit Bilbo as the company's \"burglar\" to aid them in their quest to enter the Lonely Mountain. Bilbo is unwilling to accept at first, but has a change of heart after the company leaves without him the next day. Bilbo races to join the company. Travelling onward, the company is captured by three Trolls. Bilbo stalls the Trolls from eating them until dawn, and Gandalf exposes the trolls to sunlight, turning them to stone. The company locates the Trolls' cave and finds treasure and Elven blades. Thorin and Gandalf each take an Elf-made blade, Orcrist and Glamdring, respectively; Gandalf also finds an Elven dagger, which he gives to Bilbo.\n",
    "\n",
    "The wizard Radagast the Brown finds Gandalf and the company, and recounts an encounter at Dol Guldur with the Necromancer, a sorcerer who has been corrupting Greenwood with dark magic. Chased by Orcs, Gandalf leads the company through a hidden passage to Rivendell. There, Lord Elrond discloses a hidden indication of a secret door on the company's map of the Lonely Mountain, which will be visible only on Durin's Day. Gandalf later approaches the White Council — consisting of Elrond, Galadriel and Saruman the White — and presents a Morgul blade, a weapon of the Witch-king of Angmar, which Radagast obtained from Dol Guldur as a sign that the Necromancer is linked to an eventual return of Sauron. While Saruman presses concern to the more present matter of the Dwarves' quest, requesting that Gandalf put an end to it, Gandalf secretly reveals to Galadriel he had anticipated this and had the Dwarves move forward without him.\n",
    "\n",
    "The company journeys into the Misty Mountains, where they find themselves amid a colossal battle between Stone Giants. They take refuge in a cave and are captured by Goblins, who take them to their leader, the Great Goblin. Bilbo becomes separated from the Dwarves and falls into a crevice where he encounters Gollum, who unknowingly drops a golden ring. Pocketing the ring, Bilbo finds himself confronted by Gollum. They play a riddle game, wagering that Bilbo will be shown the way out if he wins or eaten by Gollum if he loses. Bilbo eventually wins by asking Gollum what he has in his pocket. Noticing his ring is lost, Gollum realises that Bilbo possesses it and chases him. Bilbo discovers that the ring grants him invisibility, but when he has a chance to kill Gollum, Bilbo spares his life out of pity and escapes while Gollum shouts his hatred towards the hobbit Baggins.\n",
    "\n",
    "Meanwhile, the Great Goblin reveals to the Dwarves that Azog, an Orc war-chief who killed Thrór and lost his forearm to Thorin in battle outside the Dwarven kingdom of Moria, has placed a bounty on Thorin's head. Gandalf arrives and leads the Dwarves in an escape, killing the Great Goblin. Bilbo exits the mountain and rejoins the company, keeping his newly obtained ring secret. The company is ambushed by Azog and his hunting party, and takes refuge in trees. Thorin charges at Azog, who overpowers and severely injures him with his Warg. Bilbo saves Thorin from the Orcs and challenges Azog, just as the company is rescued by eagles summoned by Gandalf. They escape to the safety of the Carrock where Gandalf revives Thorin, who renounces his previous disdain for Bilbo after being saved by him.\n",
    "\n",
    "They see the Lonely Mountain in the distance, where the sleeping Smaug is awoken by a thrush knocking a snail against a stone.'''"
   ]
  },
  {
   "cell_type": "code",
   "execution_count": 118,
   "metadata": {},
   "outputs": [],
   "source": [
    "stop_words = [\"a\", \"a1\", \"a2\", \"a3\", \"a4\", \"ab\", \"able\", \"about\", \"above\", \"abst\", \"ac\", \"accordance\", \"according\", \"accordingly\", \"across\", \"act\", \"actually\", \"ad\", \"added\", \"adj\", \"ae\", \"af\", \"affected\", \"affecting\", \"affects\", \"after\", \"afterwards\", \"ag\", \"again\", \"against\", \"ah\", \"ain\", \"ain't\", \"aj\", \"al\", \"all\", \"allow\", \"allows\", \"almost\", \"alone\", \"along\", \"already\", \"also\", \"although\", \"always\", \"am\", \"among\", \"amongst\", \"amoungst\", \"amount\", \"an\", \"and\", \"announce\", \"another\", \"any\", \"anybody\", \"anyhow\", \"anymore\", \"anyone\", \"anything\", \"anyway\", \"anyways\", \"anywhere\", \"ao\", \"ap\", \"apart\", \"apparently\", \"appear\", \"appreciate\", \"appropriate\", \"approximately\", \"ar\", \"are\", \"aren\", \"arent\", \"aren't\", \"arise\", \"around\", \"as\", \"a's\", \"aside\", \"ask\", \"asking\", \"associated\", \"at\", \"au\", \"auth\", \"av\", \"available\", \"aw\", \"away\", \"awfully\", \"ax\", \"ay\", \"az\", \"b\", \"b1\", \"b2\", \"b3\", \"ba\", \"back\", \"bc\", \"bd\", \"be\", \"became\", \"because\", \"become\", \"becomes\", \"becoming\", \"been\", \"before\", \"beforehand\", \"begin\", \"beginning\", \"beginnings\", \"begins\", \"behind\", \"being\", \"believe\", \"below\", \"beside\", \"besides\", \"best\", \"better\", \"between\", \"beyond\", \"bi\", \"bill\", \"biol\", \"bj\", \"bk\", \"bl\", \"bn\", \"both\", \"bottom\", \"bp\", \"br\", \"brief\", \"briefly\", \"bs\", \"bt\", \"bu\", \"but\", \"bx\", \"by\", \"c\", \"c1\", \"c2\", \"c3\", \"ca\", \"call\", \"came\", \"can\", \"cannot\", \"cant\", \"can't\", \"cause\", \"causes\", \"cc\", \"cd\", \"ce\", \"certain\", \"certainly\", \"cf\", \"cg\", \"ch\", \"changes\", \"ci\", \"cit\", \"cj\", \"cl\", \"clearly\", \"cm\", \"c'mon\", \"cn\", \"co\", \"com\", \"come\", \"comes\", \"con\", \"concerning\", \"consequently\", \"consider\", \"considering\", \"contain\", \"containing\", \"contains\", \"corresponding\", \"could\", \"couldn\", \"couldnt\", \"couldn't\", \"course\", \"cp\", \"cq\", \"cr\", \"cry\", \"cs\", \"c's\", \"ct\", \"cu\", \"currently\", \"cv\", \"cx\", \"cy\", \"cz\", \"d\", \"d2\", \"da\", \"date\", \"dc\", \"dd\", \"de\", \"definitely\", \"describe\", \"described\", \"despite\", \"detail\", \"df\", \"di\", \"did\", \"didn\", \"didn't\", \"different\", \"dj\", \"dk\", \"dl\", \"do\", \"does\", \"doesn\", \"doesn't\", \"doing\", \"don\", \"done\", \"don't\", \"down\", \"downwards\", \"dp\", \"dr\", \"ds\", \"dt\", \"du\", \"due\", \"during\", \"dx\", \"dy\", \"e\", \"e2\", \"e3\", \"ea\", \"each\", \"ec\", \"ed\", \"edu\", \"ee\", \"ef\", \"effect\", \"eg\", \"ei\", \"eight\", \"eighty\", \"either\", \"ej\", \"el\", \"eleven\", \"else\", \"elsewhere\", \"em\", \"empty\", \"en\", \"end\", \"ending\", \"enough\", \"entirely\", \"eo\", \"ep\", \"eq\", \"er\", \"es\", \"especially\", \"est\", \"et\", \"et-al\", \"etc\", \"eu\", \"ev\", \"even\", \"ever\", \"every\", \"everybody\", \"everyone\", \"everything\", \"everywhere\", \"ex\", \"exactly\", \"example\", \"except\", \"ey\", \"f\", \"f2\", \"fa\", \"far\", \"fc\", \"few\", \"ff\", \"fi\", \"fifteen\", \"fifth\", \"fify\", \"fill\", \"find\", \"fire\", \"first\", \"five\", \"fix\", \"fj\", \"fl\", \"fn\", \"fo\", \"followed\", \"following\", \"follows\", \"for\", \"former\", \"formerly\", \"forth\", \"forty\", \"found\", \"four\", \"fr\", \"from\", \"front\", \"fs\", \"ft\", \"fu\", \"full\", \"further\", \"furthermore\", \"fy\", \"g\", \"ga\", \"gave\", \"ge\", \"get\", \"gets\", \"getting\", \"gi\", \"give\", \"given\", \"gives\", \"giving\", \"gj\", \"gl\", \"go\", \"goes\", \"going\", \"gone\", \"got\", \"gotten\", \"gr\", \"greetings\", \"gs\", \"gy\", \"h\", \"h2\", \"h3\", \"had\", \"hadn\", \"hadn't\", \"happens\", \"hardly\", \"has\", \"hasn\", \"hasnt\", \"hasn't\", \"have\", \"haven\", \"haven't\", \"having\", \"he\", \"hed\", \"he'd\", \"he'll\", \"hello\", \"help\", \"hence\", \"her\", \"here\", \"hereafter\", \"hereby\", \"herein\", \"heres\", \"here's\", \"hereupon\", \"hers\", \"herself\", \"hes\", \"he's\", \"hh\", \"hi\", \"hid\", \"him\", \"himself\", \"his\", \"hither\", \"hj\", \"ho\", \"home\", \"hopefully\", \"how\", \"howbeit\", \"however\", \"how's\", \"hr\", \"hs\", \"http\", \"hu\", \"hundred\", \"hy\", \"i\", \"i2\", \"i3\", \"i4\", \"i6\", \"i7\", \"i8\", \"ia\", \"ib\", \"ibid\", \"ic\", \"id\", \"i'd\", \"ie\", \"if\", \"ig\", \"ignored\", \"ih\", \"ii\", \"ij\", \"il\", \"i'll\", \"im\", \"i'm\", \"immediate\", \"immediately\", \"importance\", \"important\", \"in\", \"inasmuch\", \"inc\", \"indeed\", \"index\", \"indicate\", \"indicated\", \"indicates\", \"information\", \"inner\", \"insofar\", \"instead\", \"interest\", \"into\", \"invention\", \"inward\", \"io\", \"ip\", \"iq\", \"ir\", \"is\", \"isn\", \"isn't\", \"it\", \"itd\", \"it'd\", \"it'll\", \"its\", \"it's\", \"itself\", \"iv\", \"i've\", \"ix\", \"iy\", \"iz\", \"j\", \"jj\", \"jr\", \"js\", \"jt\", \"ju\", \"just\", \"k\", \"ke\", \"keep\", \"keeps\", \"kept\", \"kg\", \"kj\", \"km\", \"know\", \"known\", \"knows\", \"ko\", \"l\", \"l2\", \"la\", \"largely\", \"last\", \"lately\", \"later\", \"latter\", \"latterly\", \"lb\", \"lc\", \"le\", \"least\", \"les\", \"less\", \"lest\", \"let\", \"lets\", \"let's\", \"lf\", \"like\", \"liked\", \"likely\", \"line\", \"little\", \"lj\", \"ll\", \"ll\", \"ln\", \"lo\", \"look\", \"looking\", \"looks\", \"los\", \"lr\", \"ls\", \"lt\", \"ltd\", \"m\", \"m2\", \"ma\", \"made\", \"mainly\", \"make\", \"makes\", \"many\", \"may\", \"maybe\", \"me\", \"mean\", \"means\", \"meantime\", \"meanwhile\", \"merely\", \"mg\", \"might\", \"mightn\", \"mightn't\", \"mill\", \"million\", \"mine\", \"miss\", \"ml\", \"mn\", \"mo\", \"more\", \"moreover\", \"most\", \"mostly\", \"move\", \"mr\", \"mrs\", \"ms\", \"mt\", \"mu\", \"much\", \"mug\", \"must\", \"mustn\", \"mustn't\", \"my\", \"myself\", \"n\", \"n2\", \"na\", \"name\", \"namely\", \"nay\", \"nc\", \"nd\", \"ne\", \"near\", \"nearly\", \"necessarily\", \"necessary\", \"need\", \"needn\", \"needn't\", \"needs\", \"neither\", \"never\", \"nevertheless\", \"new\", \"next\", \"ng\", \"ni\", \"nine\", \"ninety\", \"nj\", \"nl\", \"nn\", \"no\", \"nobody\", \"non\", \"none\", \"nonetheless\", \"noone\", \"nor\", \"normally\", \"nos\", \"not\", \"noted\", \"nothing\", \"novel\", \"now\", \"nowhere\", \"nr\", \"ns\", \"nt\", \"ny\", \"o\", \"oa\", \"ob\", \"obtain\", \"obtained\", \"obviously\", \"oc\", \"od\", \"of\", \"off\", \"often\", \"og\", \"oh\", \"oi\", \"oj\", \"ok\", \"okay\", \"ol\", \"old\", \"om\", \"omitted\", \"on\", \"once\", \"one\", \"ones\", \"only\", \"onto\", \"oo\", \"op\", \"oq\", \"or\", \"ord\", \"os\", \"ot\", \"other\", \"others\", \"otherwise\", \"ou\", \"ought\", \"our\", \"ours\", \"ourselves\", \"out\", \"outside\", \"over\", \"overall\", \"ow\", \"owing\", \"own\", \"ox\", \"oz\", \"p\", \"p1\", \"p2\", \"p3\", \"page\", \"pagecount\", \"pages\", \"par\", \"part\", \"particular\", \"particularly\", \"pas\", \"past\", \"pc\", \"pd\", \"pe\", \"per\", \"perhaps\", \"pf\", \"ph\", \"pi\", \"pj\", \"pk\", \"pl\", \"placed\", \"please\", \"plus\", \"pm\", \"pn\", \"po\", \"poorly\", \"possible\", \"possibly\", \"potentially\", \"pp\", \"pq\", \"pr\", \"predominantly\", \"present\", \"presumably\", \"previously\", \"primarily\", \"probably\", \"promptly\", \"proud\", \"provides\", \"ps\", \"pt\", \"pu\", \"put\", \"py\", \"q\", \"qj\", \"qu\", \"que\", \"quickly\", \"quite\", \"qv\", \"r\", \"r2\", \"ra\", \"ran\", \"rather\", \"rc\", \"rd\", \"re\", \"readily\", \"really\", \"reasonably\", \"recent\", \"recently\", \"ref\", \"refs\", \"regarding\", \"regardless\", \"regards\", \"related\", \"relatively\", \"research\", \"research-articl\", \"respectively\", \"resulted\", \"resulting\", \"results\", \"rf\", \"rh\", \"ri\", \"right\", \"rj\", \"rl\", \"rm\", \"rn\", \"ro\", \"rq\", \"rr\", \"rs\", \"rt\", \"ru\", \"run\", \"rv\", \"ry\", \"s\", \"s2\", \"sa\", \"said\", \"same\", \"saw\", \"say\", \"saying\", \"says\", \"sc\", \"sd\", \"se\", \"sec\", \"second\", \"secondly\", \"section\", \"see\", \"seeing\", \"seem\", \"seemed\", \"seeming\", \"seems\", \"seen\", \"self\", \"selves\", \"sensible\", \"sent\", \"serious\", \"seriously\", \"seven\", \"several\", \"sf\", \"shall\", \"shan\", \"shan't\", \"she\", \"shed\", \"she'd\", \"she'll\", \"shes\", \"she's\", \"should\", \"shouldn\", \"shouldn't\", \"should've\", \"show\", \"showed\", \"shown\", \"showns\", \"shows\", \"si\", \"side\", \"significant\", \"significantly\", \"similar\", \"similarly\", \"since\", \"sincere\", \"six\", \"sixty\", \"sj\", \"sl\", \"slightly\", \"sm\", \"sn\", \"so\", \"some\", \"somebody\", \"somehow\", \"someone\", \"somethan\", \"something\", \"sometime\", \"sometimes\", \"somewhat\", \"somewhere\", \"soon\", \"sorry\", \"sp\", \"specifically\", \"specified\", \"specify\", \"specifying\", \"sq\", \"sr\", \"ss\", \"st\", \"still\", \"stop\", \"strongly\", \"sub\", \"substantially\", \"successfully\", \"such\", \"sufficiently\", \"suggest\", \"sup\", \"sure\", \"sy\", \"system\", \"sz\", \"t\", \"t1\", \"t2\", \"t3\", \"take\", \"taken\", \"taking\", \"tb\", \"tc\", \"td\", \"te\", \"tell\", \"ten\", \"tends\", \"tf\", \"th\", \"than\", \"thank\", \"thanks\", \"thanx\", \"that\", \"that'll\", \"thats\", \"that's\", \"that've\", \"the\", \"their\", \"theirs\", \"them\", \"themselves\", \"then\", \"thence\", \"there\", \"thereafter\", \"thereby\", \"thered\", \"therefore\", \"therein\", \"there'll\", \"thereof\", \"therere\", \"theres\", \"there's\", \"thereto\", \"thereupon\", \"there've\", \"these\", \"they\", \"theyd\", \"they'd\", \"they'll\", \"theyre\", \"they're\", \"they've\", \"thickv\", \"thin\", \"think\", \"third\", \"this\", \"thorough\", \"thoroughly\", \"those\", \"thou\", \"though\", \"thoughh\", \"thousand\", \"three\", \"throug\", \"through\", \"throughout\", \"thru\", \"thus\", \"ti\", \"til\", \"tip\", \"tj\", \"tl\", \"tm\", \"tn\", \"to\", \"together\", \"too\", \"took\", \"top\", \"toward\", \"towards\", \"tp\", \"tq\", \"tr\", \"tried\", \"tries\", \"truly\", \"try\", \"trying\", \"ts\", \"t's\", \"tt\", \"tv\", \"twelve\", \"twenty\", \"twice\", \"two\", \"tx\", \"u\", \"u201d\", \"ue\", \"ui\", \"uj\", \"uk\", \"um\", \"un\", \"under\", \"unfortunately\", \"unless\", \"unlike\", \"unlikely\", \"until\", \"unto\", \"uo\", \"up\", \"upon\", \"ups\", \"ur\", \"us\", \"use\", \"used\", \"useful\", \"usefully\", \"usefulness\", \"uses\", \"using\", \"usually\", \"ut\", \"v\", \"va\", \"value\", \"various\", \"vd\", \"ve\", \"ve\", \"very\", \"via\", \"viz\", \"vj\", \"vo\", \"vol\", \"vols\", \"volumtype\", \"vq\", \"vs\", \"vt\", \"vu\", \"w\", \"wa\", \"want\", \"wants\", \"was\", \"wasn\", \"wasnt\", \"wasn't\", \"way\", \"we\", \"wed\", \"we'd\", \"welcome\", \"well\", \"we'll\", \"well-b\", \"went\", \"were\", \"we're\", \"weren\", \"werent\", \"weren't\", \"we've\", \"what\", \"whatever\", \"what'll\", \"whats\", \"what's\", \"when\", \"whence\", \"whenever\", \"when's\", \"where\", \"whereafter\", \"whereas\", \"whereby\", \"wherein\", \"wheres\", \"where's\", \"whereupon\", \"wherever\", \"whether\", \"which\", \"while\", \"whim\", \"whither\", \"who\", \"whod\", \"whoever\", \"whole\", \"who'll\", \"whom\", \"whomever\", \"whos\", \"who's\", \"whose\", \"why\", \"why's\", \"wi\", \"widely\", \"will\", \"willing\", \"wish\", \"with\", \"within\", \"without\", \"wo\", \"won\", \"wonder\", \"wont\", \"won't\", \"words\", \"world\", \"would\", \"wouldn\", \"wouldnt\", \"wouldn't\", \"www\", \"x\", \"x1\", \"x2\", \"x3\", \"xf\", \"xi\", \"xj\", \"xk\", \"xl\", \"xn\", \"xo\", \"xs\", \"xt\", \"xv\", \"xx\", \"y\", \"y2\", \"yes\", \"yet\", \"yj\", \"yl\", \"you\", \"youd\", \"you'd\", \"you'll\", \"your\", \"youre\", \"you're\", \"yours\", \"yourself\", \"yourselves\", \"you've\", \"yr\", \"ys\", \"yt\", \"z\", \"zero\", \"zi\", \"zz\"]\n",
    "punctuations = [\".\", \",\", \"!\", \":\", \"?\", \";\", \"-\", '\"', \"$\", \"(\", \")\", \"[\", \"]\"]\n",
    "\n",
    "for char in lotr1:\n",
    "    if char in punctuations:\n",
    "        lotr1 = lotr1.replace(char, \"\")\n",
    "        \n",
    "for char in lotr2:\n",
    "    if char in punctuations:\n",
    "        lotr2 = lotr2.replace(char, \"\")\n",
    "        \n",
    "for char in hobbit:\n",
    "    if char in punctuations:\n",
    "        hobbit = hobbit.replace(char, \"\")\n",
    "\n",
    "lst_lotr1 = lotr1.lower().split(\" \")\n",
    "lst_lotr2 = lotr2.lower().split(\" \")\n",
    "lst_hobbit = hobbit.lower().split(\" \")\n",
    "\n",
    "lst_lotr1 = [word for word in lst_lotr1 if word not in stop_words]\n",
    "lst_lotr2 = [word for word in lst_lotr2 if word not in stop_words]\n",
    "lst_hobbit = [word for word in lst_hobbit if word not in stop_words]"
   ]
  },
  {
   "cell_type": "code",
   "execution_count": 119,
   "metadata": {},
   "outputs": [],
   "source": [
    "corpus = []\n",
    "for word in lst_lotr1:\n",
    "    if word not in corpus:\n",
    "        corpus.append(word)\n",
    "for word in lst_lotr2:\n",
    "    if word not in corpus:\n",
    "        corpus.append(word)\n",
    "for word in lst_hobbit:\n",
    "    if word not in corpus:\n",
    "        corpus.append(word)"
   ]
  },
  {
   "cell_type": "code",
   "execution_count": 120,
   "metadata": {},
   "outputs": [],
   "source": [
    "vector_lotr1 = []\n",
    "vector_lotr2 = []\n",
    "vector_hobbit = []\n",
    "\n",
    "for word in corpus:\n",
    "    vector_lotr1.append(lst_lotr1.count(word))\n",
    "    vector_lotr2.append(lst_lotr2.count(word))\n",
    "    vector_hobbit.append(lst_hobbit.count(word))\n"
   ]
  },
  {
   "cell_type": "code",
   "execution_count": 121,
   "metadata": {},
   "outputs": [
    {
     "name": "stdout",
     "output_type": "stream",
     "text": [
      "Cosine Similarity LOTR1 and LOTR2: 0.579055027831086\n",
      "Cosine Similarity LOTR1 and hobbit: 0.38419236261013767\n",
      "Cosine Similarity LOTR2 and hobbit: 0.2745736779697497\n"
     ]
    }
   ],
   "source": [
    "A = np.array(vector_lotr1)\n",
    "B = np.array(vector_lotr2)\n",
    "C = np.array(vector_hobbit)\n",
    "\n",
    "min_len = min(len(A), len(B), len(C))\n",
    "A = A[:min_len]\n",
    "B = B[:min_len]\n",
    "C = C[:min_len]\n",
    "\n",
    "\n",
    "cosine = np.dot(A,B)/(norm(A)*norm(B))\n",
    "print(\"Cosine Similarity LOTR1 and LOTR2:\", cosine)\n",
    "\n",
    "cosine = np.dot(A,C)/(norm(A)*norm(C))\n",
    "print(\"Cosine Similarity LOTR1 and hobbit:\", cosine)\n",
    "\n",
    "cosine = np.dot(B,C)/(norm(B)*norm(C))\n",
    "print(\"Cosine Similarity LOTR2 and hobbit:\", cosine)\n"
   ]
  }
 ],
 "metadata": {
  "kernelspec": {
   "display_name": "Python 3.9.7 ('DataScience')",
   "language": "python",
   "name": "python3"
  },
  "language_info": {
   "codemirror_mode": {
    "name": "ipython",
    "version": 3
   },
   "file_extension": ".py",
   "mimetype": "text/x-python",
   "name": "python",
   "nbconvert_exporter": "python",
   "pygments_lexer": "ipython3",
   "version": "3.9.7"
  },
  "orig_nbformat": 4,
  "vscode": {
   "interpreter": {
    "hash": "7f44ca2975e2b24df1b43f43147d75ff5945d4dff92c19966ebf2b71fce0f9e9"
   }
  }
 },
 "nbformat": 4,
 "nbformat_minor": 2
}
