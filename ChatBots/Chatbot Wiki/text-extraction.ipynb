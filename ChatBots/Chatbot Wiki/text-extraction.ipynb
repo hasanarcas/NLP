{
 "cells": [
  {
   "cell_type": "code",
   "execution_count": 44,
   "metadata": {},
   "outputs": [],
   "source": [
    "import pandas as pd\n",
    "import re"
   ]
  },
  {
   "cell_type": "code",
   "execution_count": 34,
   "metadata": {},
   "outputs": [
    {
     "data": {
      "text/plain": [
       "0    Oh Smeagol Ive got one! , Ive got a fish Smeag...\n",
       "1       Pull it in! Go on, go on, go on, pull it in!  \n",
       "2                                             Arrghh! \n",
       "3                                            Deagol!  \n",
       "4                                            Deagol!  \n",
       "Name: dialog, dtype: object"
      ]
     },
     "execution_count": 34,
     "metadata": {},
     "output_type": "execute_result"
    }
   ],
   "source": [
    "df = pd.read_csv(\"lotr_scripts.csv\")\n",
    "dialog = df.dialog\n",
    "dialog.head()"
   ]
  },
  {
   "cell_type": "code",
   "execution_count": 35,
   "metadata": {},
   "outputs": [
    {
     "data": {
      "text/plain": [
       "0       Oh Smeagol Ive got one! , Ive got a fish Smeag...\n",
       "1          Pull it in! Go on, go on, go on, pull it in!  \n",
       "2                                                Arrghh! \n",
       "3                                               Deagol!  \n",
       "6                          Give us that! Deagol my love  \n",
       "                              ...                        \n",
       "2384        Run, Shadowfax show us the meaning of haste. \n",
       "2386                                              Merry! \n",
       "2387    He's always followed me everywhere I went sinc...\n",
       "2388    One thing I've learnt about Hobbits: They are ...\n",
       "2389                       Foolhardy maybe. He's a Took! \n",
       "Name: dialog, Length: 2326, dtype: object"
      ]
     },
     "execution_count": 35,
     "metadata": {},
     "output_type": "execute_result"
    }
   ],
   "source": [
    "# clear all the duplicates\n",
    "dialog.drop_duplicates(inplace=True)\n",
    "dialog"
   ]
  },
  {
   "cell_type": "code",
   "execution_count": 36,
   "metadata": {},
   "outputs": [],
   "source": [
    "# join all the values inside dialog in a single string\n",
    "dialog = \" \".join(map(str, dialog))"
   ]
  },
  {
   "cell_type": "code",
   "execution_count": 42,
   "metadata": {},
   "outputs": [],
   "source": [
    "# delete \"\\xao\" from dialog\n",
    "dialog = dialog.replace(\"\\xa0\", \"\")\n",
    "dialog = dialog.replace(\"\\\\\", \"\")"
   ]
  },
  {
   "cell_type": "code",
   "execution_count": 47,
   "metadata": {},
   "outputs": [],
   "source": [
    "# save dialog as txt file\n",
    "with open(\"lotr_dialog.txt\", \"w\") as f:\n",
    "    f.write(dialog)"
   ]
  }
 ],
 "metadata": {
  "kernelspec": {
   "display_name": "Python 3.9.7 ('DataScience')",
   "language": "python",
   "name": "python3"
  },
  "language_info": {
   "codemirror_mode": {
    "name": "ipython",
    "version": 3
   },
   "file_extension": ".py",
   "mimetype": "text/x-python",
   "name": "python",
   "nbconvert_exporter": "python",
   "pygments_lexer": "ipython3",
   "version": "3.9.7"
  },
  "orig_nbformat": 4,
  "vscode": {
   "interpreter": {
    "hash": "7f44ca2975e2b24df1b43f43147d75ff5945d4dff92c19966ebf2b71fce0f9e9"
   }
  }
 },
 "nbformat": 4,
 "nbformat_minor": 2
}
